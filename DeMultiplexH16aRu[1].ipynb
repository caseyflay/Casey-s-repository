{
 "cells": [
  {
   "cell_type": "markdown",
   "metadata": {},
   "source": [
    "## Demultiplex Jibrans H16aRu so it can be run with samtools "
   ]
  },
  {
   "cell_type": "markdown",
   "metadata": {},
   "source": [
    "### first plate on lane 5"
   ]
  },
  {
   "cell_type": "code",
   "execution_count": 41,
   "metadata": {},
   "outputs": [
    {
     "name": "stdout",
     "output_type": "stream",
     "text": [
      "mkdir: cannot create directory ‘–p’: File exists\n",
      "/workspace/hrtcdf/GBSremap/P1L5\n"
     ]
    }
   ],
   "source": [
    "baseInputDir=/input/genomic/plant/Actinidia/chinensis/GBS/2016_CAGRF12857\n",
    "baseDir=/workspace/hrtcdf/GBSremap\n",
    "#P1, L5\n",
    "prefix=P1L5\n",
    "fastQ=$baseInputDir/AGRF_CAGRF12857_C9NREANXX/P1_HR_C9NREANXX_NoIndex_L005_R1.fastq.gz\n",
    "workDir=$baseDir/$prefix\n",
    "mkdir –p $workDir\n",
    "cd $workDir\n",
    "pwd"
   ]
  },
  {
   "cell_type": "code",
   "execution_count": 42,
   "metadata": {},
   "outputs": [],
   "source": [
    "## create a softlink\n",
    "ln -s /workspace/hrtcdf/GBSremap/KeaBarP1.txt ."
   ]
  },
  {
   "cell_type": "code",
   "execution_count": 43,
   "metadata": {},
   "outputs": [
    {
     "name": "stdout",
     "output_type": "stream",
     "text": [
      "-rw-rw-r--. 1 hrachd bioinformatics 14010880703 Jun 20  2016 /input/genomic/plant/Actinidia/chinensis/GBS/2016_CAGRF12857/AGRF_CAGRF12857_C9NREANXX/P1_HR_C9NREANXX_NoIndex_L005_R1.fastq.gz\n"
     ]
    }
   ],
   "source": [
    "ls -l $fastQ"
   ]
  },
  {
   "cell_type": "code",
   "execution_count": 44,
   "metadata": {},
   "outputs": [
    {
     "name": "stdout",
     "output_type": "stream",
     "text": [
      "Kiw1R6SG.01 AACT\n",
      "Kiw1R6TZ.01 CTGT\n",
      "Kiw1R6TF.01 AGCTC\n"
     ]
    }
   ],
   "source": [
    "newBarcode=$workDir/KeaBarP1.txt\n",
    "head -n 3 $newBarcode"
   ]
  },
  {
   "cell_type": "markdown",
   "metadata": {},
   "source": [
    "### demultiplexing with Q20 for plate 1 (P1)"
   ]
  },
  {
   "cell_type": "code",
   "execution_count": 45,
   "metadata": {},
   "outputs": [
    {
     "name": "stdout",
     "output_type": "stream",
     "text": [
      "Job <494846> is submitted to default queue <normal>.\n"
     ]
    }
   ],
   "source": [
    "Q=20\n",
    "subDir='Q'$Q\n",
    "logDir=$workDir/$subDir/.log\n",
    "mkdir -p $logDir\n",
    "cd $workDir/$subDir\n",
    "bsub -o $logDir/01.dex.log -e $logDir/01.dex.err -J $prefix$subDir -m wkoppb31 \"module load ea-utils/1.1.2-806; cd $workDir/$subDir; fastq-multx -b -m 0 -q $Q -d 1 -B $newBarcode $fastQ -o R1.%.fq\""
   ]
  },
  {
   "cell_type": "code",
   "execution_count": 54,
   "metadata": {},
   "outputs": [
    {
     "name": "stdout",
     "output_type": "stream",
     "text": [
      "No unfinished job found\n"
     ]
    },
    {
     "ename": "",
     "evalue": "255",
     "output_type": "error",
     "traceback": []
    }
   ],
   "source": [
    "bjobs"
   ]
  },
  {
   "cell_type": "code",
   "execution_count": 55,
   "metadata": {},
   "outputs": [
    {
     "name": "stdout",
     "output_type": "stream",
     "text": [
      "/workspace/hrtcdf/GBSremap/P1L5/Q20\n"
     ]
    }
   ],
   "source": [
    "echo $workDir/$subDir"
   ]
  },
  {
   "cell_type": "code",
   "execution_count": 56,
   "metadata": {},
   "outputs": [
    {
     "name": "stdout",
     "output_type": "stream",
     "text": [
      "total 79801176\n",
      "-rw-rw-r--. 1 hrtcdf powerplant   492120884 Apr 20 13:25 R1.Hort16A1.fq\n",
      "-rw-rw-r--. 1 hrtcdf powerplant   330373057 Apr 20 13:25 R1.Hort16A2.fq\n",
      "-rw-rw-r--. 1 hrtcdf powerplant   468828262 Apr 20 13:25 R1.Kiw1R6SE.01.fq\n",
      "-rw-rw-r--. 1 hrtcdf powerplant   408595148 Apr 20 13:25 R1.Kiw1R6SG.01.fq\n",
      "-rw-rw-r--. 1 hrtcdf powerplant   486721561 Apr 20 13:25 R1.Kiw1R6SH.01.fq\n",
      "-rw-rw-r--. 1 hrtcdf powerplant   335374455 Apr 20 13:25 R1.Kiw1R6SK.01.fq\n",
      "-rw-rw-r--. 1 hrtcdf powerplant   432887588 Apr 20 13:25 R1.Kiw1R6SN.01.fq\n",
      "-rw-rw-r--. 1 hrtcdf powerplant   648262715 Apr 20 13:25 R1.Kiw1R6SP.01.fq\n",
      "-rw-rw-r--. 1 hrtcdf powerplant   470544880 Apr 20 13:25 R1.Kiw1R6SS.01.fq\n",
      "-rw-rw-r--. 1 hrtcdf powerplant   435363081 Apr 20 13:25 R1.Kiw1R6ST.01.fq\n",
      "-rw-rw-r--. 1 hrtcdf powerplant   504686119 Apr 20 13:25 R1.Kiw1R6SX.01.fq\n",
      "-rw-rw-r--. 1 hrtcdf powerplant   447728541 Apr 20 13:25 R1.Kiw1R6SY.01.fq\n",
      "-rw-rw-r--. 1 hrtcdf powerplant   547408826 Apr 20 13:25 R1.Kiw1R6T0.01.fq\n",
      "-rw-rw-r--. 1 hrtcdf powerplant   421924089 Apr 20 13:25 R1.Kiw1R6T1.01.fq\n",
      "-rw-rw-r--. 1 hrtcdf powerplant   337453059 Apr 20 13:25 R1.Kiw1R6T2.01.fq\n",
      "-rw-rw-r--. 1 hrtcdf powerplant   602276859 Apr 20 13:25 R1.Kiw1R6T3.01.fq\n",
      "-rw-rw-r--. 1 hrtcdf powerplant   329443131 Apr 20 13:25 R1.Kiw1R6T4.01.fq\n",
      "-rw-rw-r--. 1 hrtcdf powerplant   337393070 Apr 20 13:25 R1.Kiw1R6T7.01.fq\n",
      "-rw-rw-r--. 1 hrtcdf powerplant   333682042 Apr 20 13:25 R1.Kiw1R6T8.01.fq\n",
      "-rw-rw-r--. 1 hrtcdf powerplant   344177843 Apr 20 13:25 R1.Kiw1R6T9.01.fq\n",
      "-rw-rw-r--. 1 hrtcdf powerplant   455094878 Apr 20 13:25 R1.Kiw1R6TA.01.fq\n",
      "-rw-rw-r--. 1 hrtcdf powerplant   414072099 Apr 20 13:25 R1.Kiw1R6TB.01.fq\n",
      "-rw-rw-r--. 1 hrtcdf powerplant   483457618 Apr 20 13:25 R1.Kiw1R6TC.01.fq\n",
      "-rw-rw-r--. 1 hrtcdf powerplant   428379335 Apr 20 13:25 R1.Kiw1R6TD.01.fq\n",
      "-rw-rw-r--. 1 hrtcdf powerplant   668688133 Apr 20 13:25 R1.Kiw1R6TF.01.fq\n",
      "-rw-rw-r--. 1 hrtcdf powerplant   368829716 Apr 20 13:25 R1.Kiw1R6TG.01.fq\n",
      "-rw-rw-r--. 1 hrtcdf powerplant   785419355 Apr 20 13:25 R1.Kiw1R6TH.01.fq\n",
      "-rw-rw-r--. 1 hrtcdf powerplant   375885561 Apr 20 13:25 R1.Kiw1R6TJ.01.fq\n",
      "-rw-rw-r--. 1 hrtcdf powerplant   310645891 Apr 20 13:25 R1.Kiw1R6TK.01.fq\n",
      "-rw-rw-r--. 1 hrtcdf powerplant   423837395 Apr 20 13:25 R1.Kiw1R6TM.01.fq\n",
      "-rw-rw-r--. 1 hrtcdf powerplant   542815464 Apr 20 13:25 R1.Kiw1R6TP.01.fq\n",
      "-rw-rw-r--. 1 hrtcdf powerplant   439908620 Apr 20 13:25 R1.Kiw1R6TR.01.fq\n",
      "-rw-rw-r--. 1 hrtcdf powerplant   433945792 Apr 20 13:25 R1.Kiw1R6TS.01.fq\n",
      "-rw-rw-r--. 1 hrtcdf powerplant   401176202 Apr 20 13:25 R1.Kiw1R6TV.01.fq\n",
      "-rw-rw-r--. 1 hrtcdf powerplant   482146770 Apr 20 13:25 R1.Kiw1R6TW.01.fq\n",
      "-rw-rw-r--. 1 hrtcdf powerplant   570429537 Apr 20 13:25 R1.Kiw1R6TZ.01.fq\n",
      "-rw-rw-r--. 1 hrtcdf powerplant   425150794 Apr 20 13:25 R1.Kiw1R6V0.01.fq\n",
      "-rw-rw-r--. 1 hrtcdf powerplant   535955673 Apr 20 13:25 R1.Kiw1R6V2.01.fq\n",
      "-rw-rw-r--. 1 hrtcdf powerplant   332174770 Apr 20 13:25 R1.Kiw1R6V3.01.fq\n",
      "-rw-rw-r--. 1 hrtcdf powerplant   408509647 Apr 20 13:25 R1.Kiw1R6V5.01.fq\n",
      "-rw-rw-r--. 1 hrtcdf powerplant   530352059 Apr 20 13:25 R1.Kiw1R6VC.01.fq\n",
      "-rw-rw-r--. 1 hrtcdf powerplant   425038026 Apr 20 13:25 R1.Kiw1R6VD.01.fq\n",
      "-rw-rw-r--. 1 hrtcdf powerplant   420377981 Apr 20 13:25 R1.Kiw1R6VE.01.fq\n",
      "-rw-rw-r--. 1 hrtcdf powerplant   389613232 Apr 20 13:25 R1.Kiw1R6VL.01.fq\n",
      "-rw-rw-r--. 1 hrtcdf powerplant   380993815 Apr 20 13:25 R1.Kiw1R6VR.01.fq\n",
      "-rw-rw-r--. 1 hrtcdf powerplant   536777467 Apr 20 13:25 R1.Kiw1R6W5.01.fq\n",
      "-rw-rw-r--. 1 hrtcdf powerplant   423048750 Apr 20 13:25 R1.Kiw1R6W6.01.fq\n",
      "-rw-rw-r--. 1 hrtcdf powerplant   419167447 Apr 20 13:25 R1.Kiw1R6WD.01.fq\n",
      "-rw-rw-r--. 1 hrtcdf powerplant   379901549 Apr 20 13:25 R1.Kiw1R6WE.01.fq\n",
      "-rw-rw-r--. 1 hrtcdf powerplant   457867495 Apr 20 13:25 R1.Kiw1R6WM.01.fq\n",
      "-rw-rw-r--. 1 hrtcdf powerplant   403010637 Apr 20 13:25 R1.Kiw1R6WN.01.fq\n",
      "-rw-rw-r--. 1 hrtcdf powerplant   376421252 Apr 20 13:25 R1.Kiw1R6WP.01.fq\n",
      "-rw-rw-r--. 1 hrtcdf powerplant   520698283 Apr 20 13:25 R1.Kiw1R6WR.01.fq\n",
      "-rw-rw-r--. 1 hrtcdf powerplant   401259336 Apr 20 13:25 R1.Kiw1R6WV.01.fq\n",
      "-rw-rw-r--. 1 hrtcdf powerplant   746055054 Apr 20 13:25 R1.Kiw1R6WY.01.fq\n",
      "-rw-rw-r--. 1 hrtcdf powerplant   550804504 Apr 20 13:25 R1.Kiw1R6WZ.01.fq\n",
      "-rw-rw-r--. 1 hrtcdf powerplant   477473177 Apr 20 13:25 R1.Kiw1R6X3.01.fq\n",
      "-rw-rw-r--. 1 hrtcdf powerplant   552289714 Apr 20 13:25 R1.Kiw1R6X5.01.fq\n",
      "-rw-rw-r--. 1 hrtcdf powerplant   472795546 Apr 20 13:25 R1.Kiw1R6X6.01.fq\n",
      "-rw-rw-r--. 1 hrtcdf powerplant   423279266 Apr 20 13:25 R1.Kiw1R6XM.01.fq\n",
      "-rw-rw-r--. 1 hrtcdf powerplant   439557767 Apr 20 13:25 R1.Kiw1R6Y3.01.fq\n",
      "-rw-rw-r--. 1 hrtcdf powerplant   442267381 Apr 20 13:25 R1.Kiw1R6Y6.01.fq\n",
      "-rw-rw-r--. 1 hrtcdf powerplant   307251381 Apr 20 13:25 R1.Kiw1R6YC.01.fq\n",
      "-rw-rw-r--. 1 hrtcdf powerplant   703841063 Apr 20 13:25 R1.Kiw1R6YK.01.fq\n",
      "-rw-rw-r--. 1 hrtcdf powerplant   400915172 Apr 20 13:25 R1.Kiw1R6YL.01.fq\n",
      "-rw-rw-r--. 1 hrtcdf powerplant   553491264 Apr 20 13:25 R1.Kiw1R6YP.01.fq\n",
      "-rw-rw-r--. 1 hrtcdf powerplant   499766125 Apr 20 13:25 R1.Kiw1R6YS.01.fq\n",
      "-rw-rw-r--. 1 hrtcdf powerplant   418582516 Apr 20 13:25 R1.Kiw1R6YT.01.fq\n",
      "-rw-rw-r--. 1 hrtcdf powerplant   497286113 Apr 20 13:25 R1.Kiw1R6YZ.01.fq\n",
      "-rw-rw-r--. 1 hrtcdf powerplant   375004721 Apr 20 13:25 R1.Kiw1R6Z0.01.fq\n",
      "-rw-rw-r--. 1 hrtcdf powerplant   519765336 Apr 20 13:25 R1.Kiw1R6Z3.01.fq\n",
      "-rw-rw-r--. 1 hrtcdf powerplant   560050932 Apr 20 13:25 R1.Kiw1R6Z4.01.fq\n",
      "-rw-rw-r--. 1 hrtcdf powerplant   474952557 Apr 20 13:25 R1.Kiw1R6ZD.01.fq\n",
      "-rw-rw-r--. 1 hrtcdf powerplant   565652392 Apr 20 13:25 R1.Kiw1R6ZV.01.fq\n",
      "-rw-rw-r--. 1 hrtcdf powerplant   353589754 Apr 20 13:25 R1.Kiw1R6ZZ.01.fq\n",
      "-rw-rw-r--. 1 hrtcdf powerplant   487520540 Apr 20 13:25 R1.Kiw1R703.01.fq\n",
      "-rw-rw-r--. 1 hrtcdf powerplant   515353293 Apr 20 13:25 R1.Kiw1R704.01.fq\n",
      "-rw-rw-r--. 1 hrtcdf powerplant   389218847 Apr 20 13:25 R1.Kiw1R705.01.fq\n",
      "-rw-rw-r--. 1 hrtcdf powerplant   423596904 Apr 20 13:25 R1.Kiw1R707.01.fq\n",
      "-rw-rw-r--. 1 hrtcdf powerplant   408177274 Apr 20 13:25 R1.Kiw1R708.01.fq\n",
      "-rw-rw-r--. 1 hrtcdf powerplant   368798220 Apr 20 13:25 R1.Kiw1R709.01.fq\n",
      "-rw-rw-r--. 1 hrtcdf powerplant   431855748 Apr 20 13:25 R1.Kiw1R70B.01.fq\n",
      "-rw-rw-r--. 1 hrtcdf powerplant   453398472 Apr 20 13:25 R1.Kiw1R70C.01.fq\n",
      "-rw-rw-r--. 1 hrtcdf powerplant   274483975 Apr 20 13:25 R1.Kiw1R70E.01.fq\n",
      "-rw-rw-r--. 1 hrtcdf powerplant   616144796 Apr 20 13:25 R1.Kiw1R70H.01.fq\n",
      "-rw-rw-r--. 1 hrtcdf powerplant   475089616 Apr 20 13:25 R1.Kiw1R70K.01.fq\n",
      "-rw-rw-r--. 1 hrtcdf powerplant   612695825 Apr 20 13:25 R1.Kiw1R70N.01.fq\n",
      "-rw-rw-r--. 1 hrtcdf powerplant   472631706 Apr 20 13:25 R1.Kiw1R70P.01.fq\n",
      "-rw-rw-r--. 1 hrtcdf powerplant   569734527 Apr 20 13:25 R1.Kiw1R70S.01.fq\n",
      "-rw-rw-r--. 1 hrtcdf powerplant   609724437 Apr 20 13:25 R1.Kiw1R710.01.fq\n",
      "-rw-rw-r--. 1 hrtcdf powerplant   310077230 Apr 20 13:25 R1.Kiw1R711.01.fq\n",
      "-rw-rw-r--. 1 hrtcdf powerplant   839917262 Apr 20 13:25 R1.Kiw1R719.01.fq\n",
      "-rw-rw-r--. 1 hrtcdf powerplant   536336210 Apr 20 13:25 R1.Kiw1R71C.01.fq\n",
      "-rw-rw-r--. 1 hrtcdf powerplant   319010937 Apr 20 13:25 R1.Kiw1R71D.01.fq\n",
      "-rw-rw-r--. 1 hrtcdf powerplant   437078402 Apr 20 13:25 R1.Russell1.fq\n",
      "-rw-rw-r--. 1 hrtcdf powerplant   718743478 Apr 20 13:25 R1.Russell2.fq\n",
      "-rw-rw-r--. 1 hrtcdf powerplant 16471248508 Apr 20 13:25 R1.unmatched.fq\n"
     ]
    }
   ],
   "source": [
    "ls -l $workDir/$subDir"
   ]
  },
  {
   "cell_type": "code",
   "execution_count": null,
   "metadata": {},
   "outputs": [],
   "source": []
  },
  {
   "cell_type": "markdown",
   "metadata": {},
   "source": [
    "### First plate lane 6"
   ]
  },
  {
   "cell_type": "code",
   "execution_count": 59,
   "metadata": {},
   "outputs": [
    {
     "name": "stdout",
     "output_type": "stream",
     "text": [
      "/workspace/hrtcdf/GBSremap/P1L6\n"
     ]
    }
   ],
   "source": [
    "baseInputDir=/input/genomic/plant/Actinidia/chinensis/GBS/2016_CAGRF12857\n",
    "baseDir=/workspace/hrtcdf/GBSremap\n",
    "#P1, L6\n",
    "prefix=P1L6\n",
    "fastQ=$baseInputDir/AGRF_CAGRF12857_C9NREANXX/P1_HR_C9NREANXX_NoIndex_L006_R1.fastq.gz\n",
    "workDir=$baseDir/$prefix\n",
    "mkdir –p $workDir\n",
    "cd $workDir\n",
    "pwd"
   ]
  },
  {
   "cell_type": "code",
   "execution_count": 60,
   "metadata": {},
   "outputs": [],
   "source": [
    "## create a softlink\n",
    "ln -s /workspace/hrtcdf/GBSremap/KeaBarP1.txt"
   ]
  },
  {
   "cell_type": "code",
   "execution_count": 61,
   "metadata": {},
   "outputs": [
    {
     "name": "stdout",
     "output_type": "stream",
     "text": [
      "-rw-rw-r--. 1 hrachd bioinformatics 14091589704 Jun 20  2016 /input/genomic/plant/Actinidia/chinensis/GBS/2016_CAGRF12857/AGRF_CAGRF12857_C9NREANXX/P1_HR_C9NREANXX_NoIndex_L006_R1.fastq.gz\n"
     ]
    }
   ],
   "source": [
    "ls -l $fastQ"
   ]
  },
  {
   "cell_type": "code",
   "execution_count": 62,
   "metadata": {},
   "outputs": [
    {
     "name": "stdout",
     "output_type": "stream",
     "text": [
      "Kiw1R6SG.01 AACT\n",
      "Kiw1R6TZ.01 CTGT\n",
      "Kiw1R6TF.01 AGCTC\n"
     ]
    }
   ],
   "source": [
    "newBarcode=$workDir/KeaBarP1.txt\n",
    "head -n 3 $newBarcode"
   ]
  },
  {
   "cell_type": "markdown",
   "metadata": {},
   "source": [
    "## Demultiplexing with Q20 for plate 1 (P1)"
   ]
  },
  {
   "cell_type": "code",
   "execution_count": 63,
   "metadata": {},
   "outputs": [
    {
     "name": "stdout",
     "output_type": "stream",
     "text": [
      "Job <501740> is submitted to default queue <normal>.\n"
     ]
    }
   ],
   "source": [
    "Q=20\n",
    "subDir='Q'$Q\n",
    "logDir=$workDir/$subDir/.log\n",
    "mkdir -p $logDir\n",
    "cd $workDir/$subDir\n",
    "bsub -o $logDir/01.dex.log -e $logDir/01.dex.err -J $prefix$subDir -m wkoppb31 \"module load ea-utils/1.1.2-806; cd $workDir/$subDir; fastq-multx -b -m 0 -q $Q -d 1 -B $newBarcode $fastQ -o R1.%.fq\""
   ]
  },
  {
   "cell_type": "code",
   "execution_count": 67,
   "metadata": {},
   "outputs": [
    {
     "name": "stdout",
     "output_type": "stream",
     "text": [
      "JOBID   USER    STAT  QUEUE      FROM_HOST   EXEC_HOST   JOB_NAME   SUBMIT_TIME\n",
      "501740  hrtcdf  PEND  normal     aklppj31                P1L6Q20    Apr 20 13:29\n"
     ]
    }
   ],
   "source": [
    "bjobs"
   ]
  },
  {
   "cell_type": "code",
   "execution_count": 65,
   "metadata": {},
   "outputs": [
    {
     "name": "stdout",
     "output_type": "stream",
     "text": [
      "/workspace/hrtcdf/GBSremap/P1L6/Q20\n"
     ]
    }
   ],
   "source": [
    "echo $workDir/$subDir"
   ]
  },
  {
   "cell_type": "code",
   "execution_count": 66,
   "metadata": {},
   "outputs": [
    {
     "name": "stdout",
     "output_type": "stream",
     "text": [
      "total 0\n"
     ]
    }
   ],
   "source": [
    "ls -l $workDir/$subDir"
   ]
  },
  {
   "cell_type": "code",
   "execution_count": null,
   "metadata": {},
   "outputs": [],
   "source": []
  },
  {
   "cell_type": "markdown",
   "metadata": {},
   "source": [
    "## Plate 2 lane 7"
   ]
  },
  {
   "cell_type": "code",
   "execution_count": 69,
   "metadata": {},
   "outputs": [
    {
     "name": "stdout",
     "output_type": "stream",
     "text": [
      "/workspace/hrtcdf/GBSremap/P2L7\n"
     ]
    }
   ],
   "source": [
    "baseInputDir=/input/genomic/plant/Actinidia/chinensis/GBS/2016_CAGRF12857\n",
    "baseDir=/workspace/hrtcdf/GBSremap\n",
    "#P2, L7\n",
    "prefix=P2L7\n",
    "fastQ=$baseInputDir/AGRF_CAGRF12857_C9NREANXX/P2_HR_C9NREANXX_NoIndex_L007_R1.fastq.gz\n",
    "workDir=$baseDir/$prefix\n",
    "mkdir –p $workDir\n",
    "cd $workDir\n",
    "pwd"
   ]
  },
  {
   "cell_type": "code",
   "execution_count": 70,
   "metadata": {},
   "outputs": [],
   "source": [
    "## create a softlink\n",
    "ln -s /workspace/hrtcdf/GBSremap/KeaBarP2.txt ."
   ]
  },
  {
   "cell_type": "code",
   "execution_count": 71,
   "metadata": {},
   "outputs": [
    {
     "name": "stdout",
     "output_type": "stream",
     "text": [
      "-rw-rw-r--. 1 hrachd bioinformatics 14281740065 Jun 20  2016 /input/genomic/plant/Actinidia/chinensis/GBS/2016_CAGRF12857/AGRF_CAGRF12857_C9NREANXX/P2_HR_C9NREANXX_NoIndex_L007_R1.fastq.gz\n"
     ]
    }
   ],
   "source": [
    "ls -l $fastQ"
   ]
  },
  {
   "cell_type": "code",
   "execution_count": 72,
   "metadata": {},
   "outputs": [
    {
     "name": "stdout",
     "output_type": "stream",
     "text": [
      "Kiw1R712.01 AACT\n",
      "Kiw1R6YN.01 CTGT\n",
      "Kiw1R6SM.01 AGCTC\n"
     ]
    }
   ],
   "source": [
    "newBarcode=$workDir/KeaBarP2.txt\n",
    "head -n 3 $newBarcode"
   ]
  },
  {
   "cell_type": "markdown",
   "metadata": {},
   "source": [
    "### Demultiplex with Q20 for P2 L7"
   ]
  },
  {
   "cell_type": "code",
   "execution_count": 73,
   "metadata": {},
   "outputs": [
    {
     "name": "stdout",
     "output_type": "stream",
     "text": [
      "Job <503418> is submitted to default queue <normal>.\n"
     ]
    }
   ],
   "source": [
    "Q=20\n",
    "subDir='Q'$Q\n",
    "logDir=$workDir/$subDir/.log\n",
    "mkdir -p $logDir\n",
    "cd $workDir/$subDir\n",
    "bsub -o $logDir/01.dex.log -e $logDir/01.dex.err -J $prefix$subDir -m wkoppb31 \"module load ea-utils/1.1.2-806; cd $workDir/$subDir; fastq-multx -b -m 0 -q $Q -d 1 -B $newBarcode $fastQ -o R1.%.fq\""
   ]
  },
  {
   "cell_type": "code",
   "execution_count": 74,
   "metadata": {},
   "outputs": [
    {
     "name": "stdout",
     "output_type": "stream",
     "text": [
      "JOBID   USER    STAT  QUEUE      FROM_HOST   EXEC_HOST   JOB_NAME   SUBMIT_TIME\n",
      "501740  hrtcdf  PEND  normal     aklppj31                P1L6Q20    Apr 20 13:29\n",
      "503418  hrtcdf  PEND  normal     aklppj31                P2L7Q20    Apr 20 13:30\n"
     ]
    }
   ],
   "source": [
    "bjobs"
   ]
  },
  {
   "cell_type": "code",
   "execution_count": 75,
   "metadata": {},
   "outputs": [
    {
     "name": "stdout",
     "output_type": "stream",
     "text": [
      "/workspace/hrtcdf/GBSremap/P2L7/Q20\n"
     ]
    }
   ],
   "source": [
    "echo $workDir/$subDir"
   ]
  },
  {
   "cell_type": "code",
   "execution_count": 76,
   "metadata": {},
   "outputs": [
    {
     "name": "stdout",
     "output_type": "stream",
     "text": [
      "total 0\n"
     ]
    }
   ],
   "source": [
    "ls -l $workDir/$subDir"
   ]
  },
  {
   "cell_type": "markdown",
   "metadata": {},
   "source": [
    "## Plate 2 lane 8"
   ]
  },
  {
   "cell_type": "code",
   "execution_count": 77,
   "metadata": {},
   "outputs": [
    {
     "name": "stdout",
     "output_type": "stream",
     "text": [
      "/workspace/hrtcdf/GBSremap/P2L8\n"
     ]
    }
   ],
   "source": [
    "baseInputDir=/input/genomic/plant/Actinidia/chinensis/GBS/2016_CAGRF12857\n",
    "baseDir=/workspace/hrtcdf/GBSremap\n",
    "#P2, L8\n",
    "prefix=P2L8\n",
    "fastQ=$baseInputDir/AGRF_CAGRF12857_C9NREANXX/P2_HR_C9NREANXX_NoIndex_L008_R1.fastq.gz\n",
    "workDir=$baseDir/$prefix\n",
    "mkdir –p $workDir\n",
    "cd $workDir\n",
    "pwd"
   ]
  },
  {
   "cell_type": "code",
   "execution_count": 78,
   "metadata": {},
   "outputs": [],
   "source": [
    "## create a softlink\n",
    "ln -s /workspace/hrtcdf/GBSremap/KeaBarP2.txt ."
   ]
  },
  {
   "cell_type": "code",
   "execution_count": 79,
   "metadata": {},
   "outputs": [
    {
     "name": "stdout",
     "output_type": "stream",
     "text": [
      "-rw-rw-r--. 1 hrachd bioinformatics 14226973686 Jun 20  2016 /input/genomic/plant/Actinidia/chinensis/GBS/2016_CAGRF12857/AGRF_CAGRF12857_C9NREANXX/P2_HR_C9NREANXX_NoIndex_L008_R1.fastq.gz\n"
     ]
    }
   ],
   "source": [
    "ls -l $fastQ"
   ]
  },
  {
   "cell_type": "code",
   "execution_count": 80,
   "metadata": {},
   "outputs": [
    {
     "name": "stdout",
     "output_type": "stream",
     "text": [
      "Kiw1R712.01 AACT\n",
      "Kiw1R6YN.01 CTGT\n",
      "Kiw1R6SM.01 AGCTC\n"
     ]
    }
   ],
   "source": [
    "newBarcode=$workDir/KeaBarP2.txt\n",
    "head -n 3 $newBarcode"
   ]
  },
  {
   "cell_type": "markdown",
   "metadata": {},
   "source": [
    "## demultiplex qith Q20 for plate2 lane 8."
   ]
  },
  {
   "cell_type": "code",
   "execution_count": 81,
   "metadata": {},
   "outputs": [
    {
     "name": "stdout",
     "output_type": "stream",
     "text": [
      "Job <504748> is submitted to default queue <normal>.\n"
     ]
    }
   ],
   "source": [
    "Q=20\n",
    "subDir='Q'$Q\n",
    "logDir=$workDir/$subDir/.log\n",
    "mkdir -p $logDir\n",
    "cd $workDir/$subDir\n",
    "bsub -o $logDir/01.dex.log -e $logDir/01.dex.err -J $prefix$subDir -m wkoppb31 \"module load ea-utils/1.1.2-806; cd $workDir/$subDir; fastq-multx -b -m 0 -q $Q -d 1 -B $newBarcode $fastQ -o R1.%.fq\""
   ]
  },
  {
   "cell_type": "code",
   "execution_count": 82,
   "metadata": {},
   "outputs": [
    {
     "name": "stdout",
     "output_type": "stream",
     "text": [
      "JOBID   USER    STAT  QUEUE      FROM_HOST   EXEC_HOST   JOB_NAME   SUBMIT_TIME\n",
      "501740  hrtcdf  PEND  normal     aklppj31                P1L6Q20    Apr 20 13:29\n",
      "503418  hrtcdf  PEND  normal     aklppj31                P2L7Q20    Apr 20 13:30\n",
      "504748  hrtcdf  PEND  normal     aklppj31                P2L8Q20    Apr 20 13:31\n"
     ]
    }
   ],
   "source": [
    "bjobs"
   ]
  },
  {
   "cell_type": "code",
   "execution_count": 83,
   "metadata": {},
   "outputs": [
    {
     "name": "stdout",
     "output_type": "stream",
     "text": [
      "/workspace/hrtcdf/GBSremap/P2L8/Q20\n"
     ]
    }
   ],
   "source": [
    "echo $workDir/$subDir"
   ]
  },
  {
   "cell_type": "code",
   "execution_count": 84,
   "metadata": {},
   "outputs": [
    {
     "name": "stdout",
     "output_type": "stream",
     "text": [
      "total 0\n"
     ]
    }
   ],
   "source": [
    "ls -l $workDir/$subDir"
   ]
  },
  {
   "cell_type": "markdown",
   "metadata": {},
   "source": [
    "## Plate 3 with a different parent directory"
   ]
  },
  {
   "cell_type": "code",
   "execution_count": 86,
   "metadata": {},
   "outputs": [
    {
     "name": "stdout",
     "output_type": "stream",
     "text": [
      "/workspace/hrtcdf/GBSremap/P3L2\n"
     ]
    }
   ],
   "source": [
    "baseInputDir=/input/genomic/plant/Actinidia/chinensis/GBS/2016_CAGRF12857\n",
    "baseDir=/workspace/hrtcdf/GBSremap\n",
    "#P3, L2\n",
    "prefix=P3L2\n",
    "fastQ=$baseInputDir/AGRF_CAGRF12857_C9NAEANXX/P3_HR_C9NAEANXX_NoIndex_L002_R1.fastq.gz\n",
    "workDir=$baseDir/$prefix\n",
    "mkdir –p $workDir\n",
    "cd $workDir\n",
    "pwd"
   ]
  },
  {
   "cell_type": "code",
   "execution_count": 87,
   "metadata": {},
   "outputs": [],
   "source": [
    "## create a softlink\n",
    "ln -s /workspace/hrtcdf/GBSremap/KeaBarP3.txt"
   ]
  },
  {
   "cell_type": "code",
   "execution_count": 88,
   "metadata": {},
   "outputs": [
    {
     "name": "stdout",
     "output_type": "stream",
     "text": [
      "-rw-rw-r--. 1 hrachd bioinformatics 11939310700 Jul 12  2016 /input/genomic/plant/Actinidia/chinensis/GBS/2016_CAGRF12857/AGRF_CAGRF12857_C9NAEANXX/P3_HR_C9NAEANXX_NoIndex_L002_R1.fastq.gz\n"
     ]
    }
   ],
   "source": [
    "ls -l $fastQ"
   ]
  },
  {
   "cell_type": "code",
   "execution_count": 89,
   "metadata": {},
   "outputs": [
    {
     "name": "stdout",
     "output_type": "stream",
     "text": [
      "Kiw1R70R.01 AACT\n",
      "Kiw1R6ZJ.01 CTGT\n",
      "Kiw1R6V8.01 AGCTC\n"
     ]
    }
   ],
   "source": [
    "newBarcode=$workDir/KeaBarP3.txt\n",
    "head -n 3 $newBarcode"
   ]
  },
  {
   "cell_type": "markdown",
   "metadata": {},
   "source": [
    "## Demultiplexing with Q20 for plate 3 (P3)"
   ]
  },
  {
   "cell_type": "code",
   "execution_count": 90,
   "metadata": {},
   "outputs": [
    {
     "name": "stdout",
     "output_type": "stream",
     "text": [
      "Job <506679> is submitted to default queue <normal>.\n"
     ]
    }
   ],
   "source": [
    "Q=20\n",
    "subDir='Q'$Q\n",
    "logDir=$workDir/$subDir/.log\n",
    "mkdir -p $logDir\n",
    "cd $workDir/$subDir\n",
    "bsub -o $logDir/01.dex.log -e $logDir/01.dex.err -J $prefix$subDir -m wkoppb31 \"module load ea-utils/1.1.2-806; cd $workDir/$subDir; fastq-multx -b -m 0 -q $Q -d 1 -B $newBarcode $fastQ -o R1.%.fq\""
   ]
  },
  {
   "cell_type": "code",
   "execution_count": 102,
   "metadata": {},
   "outputs": [
    {
     "name": "stdout",
     "output_type": "stream",
     "text": [
      "No unfinished job found\n"
     ]
    },
    {
     "ename": "",
     "evalue": "255",
     "output_type": "error",
     "traceback": []
    }
   ],
   "source": [
    "bjobs"
   ]
  },
  {
   "cell_type": "code",
   "execution_count": 103,
   "metadata": {},
   "outputs": [
    {
     "name": "stdout",
     "output_type": "stream",
     "text": [
      "/workspace/hrtcdf/GBSremap/P3L2/Q20\n"
     ]
    }
   ],
   "source": [
    "echo $workDir/$subDir"
   ]
  },
  {
   "cell_type": "code",
   "execution_count": 104,
   "metadata": {},
   "outputs": [
    {
     "name": "stdout",
     "output_type": "stream",
     "text": [
      "total 72034480\n",
      "-rw-rw-r--. 1 hrtcdf powerplant     2548475 Apr 20 14:22 R1.Blank.fq\n",
      "-rw-rw-r--. 1 hrtcdf powerplant   887918564 Apr 20 14:21 R1.Kiw1R6SF.01.fq\n",
      "-rw-rw-r--. 1 hrtcdf powerplant  1084614793 Apr 20 14:21 R1.Kiw1R6SJ.01.fq\n",
      "-rw-rw-r--. 1 hrtcdf powerplant  1088711694 Apr 20 14:21 R1.Kiw1R6SL.01.fq\n",
      "-rw-rw-r--. 1 hrtcdf powerplant  1121899217 Apr 20 14:21 R1.Kiw1R6SW.01.fq\n",
      "-rw-rw-r--. 1 hrtcdf powerplant  1057679058 Apr 20 14:22 R1.Kiw1R6T5.01.fq\n",
      "-rw-rw-r--. 1 hrtcdf powerplant   645350216 Apr 20 14:21 R1.Kiw1R6V8.01.fq\n",
      "-rw-rw-r--. 1 hrtcdf powerplant   707970405 Apr 20 14:21 R1.Kiw1R6VB.01.fq\n",
      "-rw-rw-r--. 1 hrtcdf powerplant   704707207 Apr 20 14:21 R1.Kiw1R6VP.01.fq\n",
      "-rw-rw-r--. 1 hrtcdf powerplant  1105796510 Apr 20 14:21 R1.Kiw1R6VS.01.fq\n",
      "-rw-rw-r--. 1 hrtcdf powerplant   816823521 Apr 20 14:21 R1.Kiw1R6W1.01.fq\n",
      "-rw-rw-r--. 1 hrtcdf powerplant   741366700 Apr 20 14:21 R1.Kiw1R6W7.01.fq\n",
      "-rw-rw-r--. 1 hrtcdf powerplant   817684931 Apr 20 14:21 R1.Kiw1R6W9.01.fq\n",
      "-rw-rw-r--. 1 hrtcdf powerplant   776595895 Apr 20 14:22 R1.Kiw1R6WA.01.fq\n",
      "-rw-rw-r--. 1 hrtcdf powerplant   917012302 Apr 20 14:21 R1.Kiw1R6WB.01.fq\n",
      "-rw-rw-r--. 1 hrtcdf powerplant   797648113 Apr 20 14:21 R1.Kiw1R6WC.01.fq\n",
      "-rw-rw-r--. 1 hrtcdf powerplant  1065820207 Apr 20 14:21 R1.Kiw1R6WK.01.fq\n",
      "-rw-rw-r--. 1 hrtcdf powerplant  1080051186 Apr 20 14:21 R1.Kiw1R6WL.01.fq\n",
      "-rw-rw-r--. 1 hrtcdf powerplant   887724927 Apr 20 14:21 R1.Kiw1R6WT.01.fq\n",
      "-rw-rw-r--. 1 hrtcdf powerplant  1174539852 Apr 20 14:21 R1.Kiw1R6WX.01.fq\n",
      "-rw-rw-r--. 1 hrtcdf powerplant  1086856237 Apr 20 14:21 R1.Kiw1R6X8.01.fq\n",
      "-rw-rw-r--. 1 hrtcdf powerplant   949398079 Apr 20 14:22 R1.Kiw1R6X9.01.fq\n",
      "-rw-rw-r--. 1 hrtcdf powerplant   784137136 Apr 20 14:21 R1.Kiw1R6XK.01.fq\n",
      "-rw-rw-r--. 1 hrtcdf powerplant   623727451 Apr 20 14:21 R1.Kiw1R6XP.01.fq\n",
      "-rw-rw-r--. 1 hrtcdf powerplant   696355891 Apr 20 14:21 R1.Kiw1R6XS.01.fq\n",
      "-rw-rw-r--. 1 hrtcdf powerplant   962662730 Apr 20 14:21 R1.Kiw1R6XV.01.fq\n",
      "-rw-rw-r--. 1 hrtcdf powerplant   909416497 Apr 20 14:21 R1.Kiw1R6XW.01.fq\n",
      "-rw-rw-r--. 1 hrtcdf powerplant  1020946404 Apr 20 14:21 R1.Kiw1R6Y0.01.fq\n",
      "-rw-rw-r--. 1 hrtcdf powerplant   853625578 Apr 20 14:21 R1.Kiw1R6Y1.01.fq\n",
      "-rw-rw-r--. 1 hrtcdf powerplant  1090228891 Apr 20 14:21 R1.Kiw1R6Y5.01.fq\n",
      "-rw-rw-r--. 1 hrtcdf powerplant   981511396 Apr 20 14:22 R1.Kiw1R6Y7.01.fq\n",
      "-rw-rw-r--. 1 hrtcdf powerplant   775656872 Apr 20 14:21 R1.Kiw1R6YD.01.fq\n",
      "-rw-rw-r--. 1 hrtcdf powerplant   969713505 Apr 20 14:21 R1.Kiw1R6YF.01.fq\n",
      "-rw-rw-r--. 1 hrtcdf powerplant   929399685 Apr 20 14:21 R1.Kiw1R6YH.01.fq\n",
      "-rw-rw-r--. 1 hrtcdf powerplant   163308037 Apr 20 14:21 R1.Kiw1R6Z5.01.fq\n",
      "-rw-rw-r--. 1 hrtcdf powerplant   621771536 Apr 20 14:21 R1.Kiw1R6Z6.01.fq\n",
      "-rw-rw-r--. 1 hrtcdf powerplant   690367586 Apr 20 14:21 R1.Kiw1R6Z7.01.fq\n",
      "-rw-rw-r--. 1 hrtcdf powerplant   808365906 Apr 20 14:21 R1.Kiw1R6Z8.01.fq\n",
      "-rw-rw-r--. 1 hrtcdf powerplant   816602090 Apr 20 14:21 R1.Kiw1R6ZG.01.fq\n",
      "-rw-rw-r--. 1 hrtcdf powerplant   871077998 Apr 20 14:22 R1.Kiw1R6ZH.01.fq\n",
      "-rw-rw-r--. 1 hrtcdf powerplant   802781280 Apr 20 14:21 R1.Kiw1R6ZJ.01.fq\n",
      "-rw-rw-r--. 1 hrtcdf powerplant   587093963 Apr 20 14:21 R1.Kiw1R701.01.fq\n",
      "-rw-rw-r--. 1 hrtcdf powerplant   871963847 Apr 20 14:21 R1.Kiw1R70M.01.fq\n",
      "-rw-rw-r--. 1 hrtcdf powerplant   570557439 Apr 20 14:21 R1.Kiw1R70R.01.fq\n",
      "-rw-rw-r--. 1 hrtcdf powerplant   807853545 Apr 20 14:21 R1.Kiw1R70X.01.fq\n",
      "-rw-rw-r--. 1 hrtcdf powerplant   931591370 Apr 20 14:21 R1.Kiw1R70Z.01.fq\n",
      "-rw-rw-r--. 1 hrtcdf powerplant  1326221111 Apr 20 14:21 R1.Kiw1R714.01.fq\n",
      "-rw-rw-r--. 1 hrtcdf powerplant  1320206543 Apr 20 14:22 R1.Kiw1R716.01.fq\n",
      "-rw-rw-r--. 1 hrtcdf powerplant   897639944 Apr 20 14:21 R1.Kiw1R71F.01.fq\n",
      "-rw-rw-r--. 1 hrtcdf powerplant 12992562110 Apr 20 14:22 R1.unmatched.fq\n"
     ]
    }
   ],
   "source": [
    "ls -l $workDir/$subDir"
   ]
  },
  {
   "cell_type": "code",
   "execution_count": 95,
   "metadata": {},
   "outputs": [
    {
     "name": "stdout",
     "output_type": "stream",
     "text": [
      "/workspace/hrtcdf/GBSremap/P3L2/Q20\n"
     ]
    }
   ],
   "source": [
    "pwd"
   ]
  },
  {
   "cell_type": "code",
   "execution_count": null,
   "metadata": {},
   "outputs": [],
   "source": []
  }
 ],
 "metadata": {
  "kernelspec": {
   "display_name": "Bash",
   "language": "bash",
   "name": "bash"
  },
  "language_info": {
   "codemirror_mode": "shell",
   "file_extension": ".sh",
   "mimetype": "text/x-sh",
   "name": "bash"
  }
 },
 "nbformat": 4,
 "nbformat_minor": 4
}
